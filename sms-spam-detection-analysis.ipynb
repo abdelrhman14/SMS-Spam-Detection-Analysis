{
 "cells": [
  {
   "cell_type": "code",
   "execution_count": 1,
   "id": "aa684399",
   "metadata": {
    "execution": {
     "iopub.execute_input": "2021-12-23T18:18:29.770198Z",
     "iopub.status.busy": "2021-12-23T18:18:29.768803Z",
     "iopub.status.idle": "2021-12-23T18:18:30.771561Z",
     "shell.execute_reply": "2021-12-23T18:18:30.770713Z",
     "shell.execute_reply.started": "2021-12-23T18:16:13.249841Z"
    },
    "id": "Ypj_PU_NDxbH",
    "papermill": {
     "duration": 1.057247,
     "end_time": "2021-12-23T18:18:30.771721",
     "exception": false,
     "start_time": "2021-12-23T18:18:29.714474",
     "status": "completed"
    },
    "tags": []
   },
   "outputs": [],
   "source": [
    "import pandas as pd\n",
    "import numpy as np\n",
    "import seaborn as sns\n",
    "import matplotlib.pyplot as plt"
   ]
  },
  {
   "cell_type": "code",
   "execution_count": 2,
   "id": "bbd18a22",
   "metadata": {
    "execution": {
     "iopub.execute_input": "2021-12-23T18:18:30.869663Z",
     "iopub.status.busy": "2021-12-23T18:18:30.869003Z",
     "iopub.status.idle": "2021-12-23T18:18:51.784410Z",
     "shell.execute_reply": "2021-12-23T18:18:51.785041Z",
     "shell.execute_reply.started": "2021-12-23T18:16:13.314748Z"
    },
    "id": "RAGoZzXbIgeq",
    "outputId": "c4993e99-268f-4507-aafe-24a3d7d2d7ab",
    "papermill": {
     "duration": 20.968454,
     "end_time": "2021-12-23T18:18:51.785265",
     "exception": false,
     "start_time": "2021-12-23T18:18:30.816811",
     "status": "completed"
    },
    "tags": []
   },
   "outputs": [
    {
     "name": "stdout",
     "output_type": "stream",
     "text": [
      "[nltk_data] Error loading stopwords: <urlopen error [Errno -3]\n",
      "[nltk_data]     Temporary failure in name resolution>\n"
     ]
    }
   ],
   "source": [
    "import nltk\n",
    "import re\n",
    "nltk.download('stopwords')\n",
    "from nltk.corpus import stopwords\n",
    "from nltk.tokenize import word_tokenize\n",
    "from sklearn.feature_extraction.text import TfidfVectorizer\n",
    "from nltk.stem import PorterStemmer , LancasterStemmer\n",
    "\n",
    "from sklearn.preprocessing import LabelEncoder\n",
    "from sklearn.model_selection import train_test_split\n",
    "\n",
    "\n",
    "from sklearn.svm import SVC\n",
    "from sklearn.ensemble import RandomForestClassifier \n",
    "from sklearn.linear_model import LogisticRegression\n",
    "from sklearn.naive_bayes import BernoulliNB\n",
    "\n",
    "from sklearn.model_selection import cross_validate\n",
    "from sklearn.model_selection import cross_val_score\n",
    "\n",
    "from sklearn.metrics import roc_curve,auc\n",
    "\n",
    "from sklearn.metrics import accuracy_score\n",
    "from sklearn.metrics import confusion_matrix\n",
    "from sklearn.metrics import classification_report"
   ]
  },
  {
   "cell_type": "code",
   "execution_count": 3,
   "id": "cc4b6702",
   "metadata": {
    "execution": {
     "iopub.execute_input": "2021-12-23T18:18:51.885017Z",
     "iopub.status.busy": "2021-12-23T18:18:51.883959Z",
     "iopub.status.idle": "2021-12-23T18:18:51.943854Z",
     "shell.execute_reply": "2021-12-23T18:18:51.942899Z",
     "shell.execute_reply.started": "2021-12-23T18:16:33.347951Z"
    },
    "id": "ZjfJCdTnEVBU",
    "outputId": "0c779d0d-9313-42fe-a507-574840283319",
    "papermill": {
     "duration": 0.111863,
     "end_time": "2021-12-23T18:18:51.944078",
     "exception": false,
     "start_time": "2021-12-23T18:18:51.832215",
     "status": "completed"
    },
    "tags": []
   },
   "outputs": [
    {
     "name": "stdout",
     "output_type": "stream",
     "text": [
      "Data :         v1                                                 v2 Unnamed: 2  \\\n",
      "0      ham  Go until jurong point, crazy.. Available only ...        NaN   \n",
      "1      ham                      Ok lar... Joking wif u oni...        NaN   \n",
      "2     spam  Free entry in 2 a wkly comp to win FA Cup fina...        NaN   \n",
      "3      ham  U dun say so early hor... U c already then say...        NaN   \n",
      "4      ham  Nah I don't think he goes to usf, he lives aro...        NaN   \n",
      "...    ...                                                ...        ...   \n",
      "5567  spam  This is the 2nd time we have tried 2 contact u...        NaN   \n",
      "5568   ham              Will Ì_ b going to esplanade fr home?        NaN   \n",
      "5569   ham  Pity, * was in mood for that. So...any other s...        NaN   \n",
      "5570   ham  The guy did some bitching but I acted like i'd...        NaN   \n",
      "5571   ham                         Rofl. Its true to its name        NaN   \n",
      "\n",
      "     Unnamed: 3 Unnamed: 4  \n",
      "0           NaN        NaN  \n",
      "1           NaN        NaN  \n",
      "2           NaN        NaN  \n",
      "3           NaN        NaN  \n",
      "4           NaN        NaN  \n",
      "...         ...        ...  \n",
      "5567        NaN        NaN  \n",
      "5568        NaN        NaN  \n",
      "5569        NaN        NaN  \n",
      "5570        NaN        NaN  \n",
      "5571        NaN        NaN  \n",
      "\n",
      "[5572 rows x 5 columns]\n",
      "Data Shape : (5572, 5)\n",
      "Data columns : Index(['v1', 'v2', 'Unnamed: 2', 'Unnamed: 3', 'Unnamed: 4'], dtype='object')\n"
     ]
    }
   ],
   "source": [
    "data = pd.read_csv('/kaggle/input/sms-spam-collection-dataset/spam.csv', encoding=\"ISO-8859-1\")\n",
    "\n",
    "print('Data :',data)\n",
    "print('Data Shape :',data.shape)\n",
    "print('Data columns :',data.columns)"
   ]
  },
  {
   "cell_type": "code",
   "execution_count": null,
   "id": "8b37dffd",
   "metadata": {
    "papermill": {
     "duration": 0.046023,
     "end_time": "2021-12-23T18:18:52.037554",
     "exception": false,
     "start_time": "2021-12-23T18:18:51.991531",
     "status": "completed"
    },
    "tags": []
   },
   "outputs": [],
   "source": []
  },
  {
   "cell_type": "code",
   "execution_count": 4,
   "id": "e5ccd481",
   "metadata": {
    "execution": {
     "iopub.execute_input": "2021-12-23T18:18:52.148493Z",
     "iopub.status.busy": "2021-12-23T18:18:52.147510Z",
     "iopub.status.idle": "2021-12-23T18:18:52.151666Z",
     "shell.execute_reply": "2021-12-23T18:18:52.152183Z",
     "shell.execute_reply.started": "2021-12-23T18:16:33.378680Z"
    },
    "id": "XgIeT2jgGQgB",
    "outputId": "a5557be9-8097-4caf-e334-27028b01b842",
    "papermill": {
     "duration": 0.067992,
     "end_time": "2021-12-23T18:18:52.152385",
     "exception": false,
     "start_time": "2021-12-23T18:18:52.084393",
     "status": "completed"
    },
    "tags": []
   },
   "outputs": [
    {
     "data": {
      "text/plain": [
       "Index(['v1', 'v2'], dtype='object')"
      ]
     },
     "execution_count": 4,
     "metadata": {},
     "output_type": "execute_result"
    }
   ],
   "source": [
    "data.drop(['Unnamed: 2', 'Unnamed: 3', 'Unnamed: 4'],axis=1,inplace=True)\n",
    "data.columns"
   ]
  },
  {
   "cell_type": "code",
   "execution_count": 5,
   "id": "e31e0a21",
   "metadata": {
    "execution": {
     "iopub.execute_input": "2021-12-23T18:18:52.251122Z",
     "iopub.status.busy": "2021-12-23T18:18:52.250021Z",
     "iopub.status.idle": "2021-12-23T18:18:52.263435Z",
     "shell.execute_reply": "2021-12-23T18:18:52.264005Z",
     "shell.execute_reply.started": "2021-12-23T18:16:33.393716Z"
    },
    "id": "vCz76LP1Gra8",
    "outputId": "acf4c9eb-c480-49ce-e6c6-dea87adb45ba",
    "papermill": {
     "duration": 0.064993,
     "end_time": "2021-12-23T18:18:52.264214",
     "exception": false,
     "start_time": "2021-12-23T18:18:52.199221",
     "status": "completed"
    },
    "tags": []
   },
   "outputs": [
    {
     "data": {
      "text/html": [
       "<div>\n",
       "<style scoped>\n",
       "    .dataframe tbody tr th:only-of-type {\n",
       "        vertical-align: middle;\n",
       "    }\n",
       "\n",
       "    .dataframe tbody tr th {\n",
       "        vertical-align: top;\n",
       "    }\n",
       "\n",
       "    .dataframe thead th {\n",
       "        text-align: right;\n",
       "    }\n",
       "</style>\n",
       "<table border=\"1\" class=\"dataframe\">\n",
       "  <thead>\n",
       "    <tr style=\"text-align: right;\">\n",
       "      <th></th>\n",
       "      <th>label</th>\n",
       "      <th>messages</th>\n",
       "    </tr>\n",
       "  </thead>\n",
       "  <tbody>\n",
       "    <tr>\n",
       "      <th>0</th>\n",
       "      <td>ham</td>\n",
       "      <td>Go until jurong point, crazy.. Available only ...</td>\n",
       "    </tr>\n",
       "    <tr>\n",
       "      <th>1</th>\n",
       "      <td>ham</td>\n",
       "      <td>Ok lar... Joking wif u oni...</td>\n",
       "    </tr>\n",
       "    <tr>\n",
       "      <th>2</th>\n",
       "      <td>spam</td>\n",
       "      <td>Free entry in 2 a wkly comp to win FA Cup fina...</td>\n",
       "    </tr>\n",
       "    <tr>\n",
       "      <th>3</th>\n",
       "      <td>ham</td>\n",
       "      <td>U dun say so early hor... U c already then say...</td>\n",
       "    </tr>\n",
       "    <tr>\n",
       "      <th>4</th>\n",
       "      <td>ham</td>\n",
       "      <td>Nah I don't think he goes to usf, he lives aro...</td>\n",
       "    </tr>\n",
       "  </tbody>\n",
       "</table>\n",
       "</div>"
      ],
      "text/plain": [
       "  label                                           messages\n",
       "0   ham  Go until jurong point, crazy.. Available only ...\n",
       "1   ham                      Ok lar... Joking wif u oni...\n",
       "2  spam  Free entry in 2 a wkly comp to win FA Cup fina...\n",
       "3   ham  U dun say so early hor... U c already then say...\n",
       "4   ham  Nah I don't think he goes to usf, he lives aro..."
      ]
     },
     "execution_count": 5,
     "metadata": {},
     "output_type": "execute_result"
    }
   ],
   "source": [
    "data = data.rename(columns={'v2': 'messages', 'v1': 'label'})\n",
    "data.head(5)"
   ]
  },
  {
   "cell_type": "code",
   "execution_count": 6,
   "id": "60b42175",
   "metadata": {
    "execution": {
     "iopub.execute_input": "2021-12-23T18:18:52.362919Z",
     "iopub.status.busy": "2021-12-23T18:18:52.361736Z",
     "iopub.status.idle": "2021-12-23T18:18:52.381799Z",
     "shell.execute_reply": "2021-12-23T18:18:52.382560Z",
     "shell.execute_reply.started": "2021-12-23T18:16:33.407287Z"
    },
    "id": "vhVotJ_9G5Yi",
    "outputId": "423e3b3f-66f7-4b0e-ccbb-1af3d6fae4cd",
    "papermill": {
     "duration": 0.071724,
     "end_time": "2021-12-23T18:18:52.382827",
     "exception": false,
     "start_time": "2021-12-23T18:18:52.311103",
     "status": "completed"
    },
    "tags": []
   },
   "outputs": [
    {
     "name": "stdout",
     "output_type": "stream",
     "text": [
      "Positive      label                                           messages\n",
      "0      ham  Go until jurong point, crazy.. Available only ...\n",
      "1      ham                      Ok lar... Joking wif u oni...\n",
      "3      ham  U dun say so early hor... U c already then say...\n",
      "4      ham  Nah I don't think he goes to usf, he lives aro...\n",
      "6      ham  Even my brother is not like to speak with me. ...\n",
      "...    ...                                                ...\n",
      "5565   ham                                       Huh y lei...\n",
      "5568   ham              Will Ì_ b going to esplanade fr home?\n",
      "5569   ham  Pity, * was in mood for that. So...any other s...\n",
      "5570   ham  The guy did some bitching but I acted like i'd...\n",
      "5571   ham                         Rofl. Its true to its name\n",
      "\n",
      "[4825 rows x 2 columns]\n",
      "*******************************************************\n",
      "Negative      label                                           messages\n",
      "2     spam  Free entry in 2 a wkly comp to win FA Cup fina...\n",
      "5     spam  FreeMsg Hey there darling it's been 3 week's n...\n",
      "8     spam  WINNER!! As a valued network customer you have...\n",
      "9     spam  Had your mobile 11 months or more? U R entitle...\n",
      "11    spam  SIX chances to win CASH! From 100 to 20,000 po...\n",
      "...    ...                                                ...\n",
      "5537  spam  Want explicit SEX in 30 secs? Ring 02073162414...\n",
      "5540  spam  ASKED 3MOBILE IF 0870 CHATLINES INCLU IN FREE ...\n",
      "5547  spam  Had your contract mobile 11 Mnths? Latest Moto...\n",
      "5566  spam  REMINDER FROM O2: To get 2.50 pounds free call...\n",
      "5567  spam  This is the 2nd time we have tried 2 contact u...\n",
      "\n",
      "[747 rows x 2 columns]\n"
     ]
    }
   ],
   "source": [
    "ham=data[data['label'].isin(['ham'])]\n",
    "spam=data[data['label'].isin(['spam'])]\n",
    "print('Positive',ham)\n",
    "print('*******************************************************')\n",
    "print('Negative',spam)"
   ]
  },
  {
   "cell_type": "code",
   "execution_count": 7,
   "id": "2115caa9",
   "metadata": {
    "execution": {
     "iopub.execute_input": "2021-12-23T18:18:52.484517Z",
     "iopub.status.busy": "2021-12-23T18:18:52.483386Z",
     "iopub.status.idle": "2021-12-23T18:18:52.498953Z",
     "shell.execute_reply": "2021-12-23T18:18:52.499633Z",
     "shell.execute_reply.started": "2021-12-23T18:16:33.427467Z"
    },
    "id": "Cpz2G57kHf9K",
    "outputId": "d5e430fd-a55c-4bae-8ec4-fe9f2453f056",
    "papermill": {
     "duration": 0.06801,
     "end_time": "2021-12-23T18:18:52.499833",
     "exception": false,
     "start_time": "2021-12-23T18:18:52.431823",
     "status": "completed"
    },
    "tags": []
   },
   "outputs": [
    {
     "name": "stdout",
     "output_type": "stream",
     "text": [
      "Positive      label                                           messages\n",
      "0      ham  Go until jurong point, crazy.. Available only ...\n",
      "1      ham                      Ok lar... Joking wif u oni...\n",
      "3      ham  U dun say so early hor... U c already then say...\n",
      "4      ham  Nah I don't think he goes to usf, he lives aro...\n",
      "6      ham  Even my brother is not like to speak with me. ...\n",
      "...    ...                                                ...\n",
      "5565   ham                                       Huh y lei...\n",
      "5568   ham              Will Ì_ b going to esplanade fr home?\n",
      "5569   ham  Pity, * was in mood for that. So...any other s...\n",
      "5570   ham  The guy did some bitching but I acted like i'd...\n",
      "5571   ham                         Rofl. Its true to its name\n",
      "\n",
      "[4825 rows x 2 columns]\n",
      "*******************************************************\n",
      "Negative      label                                           messages\n",
      "2     spam  Free entry in 2 a wkly comp to win FA Cup fina...\n",
      "5     spam  FreeMsg Hey there darling it's been 3 week's n...\n",
      "8     spam  WINNER!! As a valued network customer you have...\n",
      "9     spam  Had your mobile 11 months or more? U R entitle...\n",
      "11    spam  SIX chances to win CASH! From 100 to 20,000 po...\n",
      "...    ...                                                ...\n",
      "5537  spam  Want explicit SEX in 30 secs? Ring 02073162414...\n",
      "5540  spam  ASKED 3MOBILE IF 0870 CHATLINES INCLU IN FREE ...\n",
      "5547  spam  Had your contract mobile 11 Mnths? Latest Moto...\n",
      "5566  spam  REMINDER FROM O2: To get 2.50 pounds free call...\n",
      "5567  spam  This is the 2nd time we have tried 2 contact u...\n",
      "\n",
      "[747 rows x 2 columns]\n"
     ]
    }
   ],
   "source": [
    "ham=data[data['label'].isin(['ham'])]\n",
    "spam=data[data['label'].isin(['spam'])]\n",
    "print('Positive',ham)\n",
    "print('*******************************************************')\n",
    "print('Negative',spam)"
   ]
  },
  {
   "cell_type": "code",
   "execution_count": 8,
   "id": "a345067f",
   "metadata": {
    "execution": {
     "iopub.execute_input": "2021-12-23T18:18:52.600492Z",
     "iopub.status.busy": "2021-12-23T18:18:52.599420Z",
     "iopub.status.idle": "2021-12-23T18:18:52.822894Z",
     "shell.execute_reply": "2021-12-23T18:18:52.823378Z",
     "shell.execute_reply.started": "2021-12-23T18:16:33.443042Z"
    },
    "id": "uPQsCVxgHXqT",
    "outputId": "b584b5fc-6430-415b-f505-84b195476593",
    "papermill": {
     "duration": 0.27581,
     "end_time": "2021-12-23T18:18:52.823593",
     "exception": false,
     "start_time": "2021-12-23T18:18:52.547783",
     "status": "completed"
    },
    "tags": []
   },
   "outputs": [
    {
     "name": "stdout",
     "output_type": "stream",
     "text": [
      "Number of hum 4825\n",
      "Number of spam 747\n"
     ]
    },
    {
     "name": "stderr",
     "output_type": "stream",
     "text": [
      "/opt/conda/lib/python3.7/site-packages/seaborn/_decorators.py:43: FutureWarning: Pass the following variable as a keyword arg: x. From version 0.12, the only valid positional argument will be `data`, and passing other arguments without an explicit keyword will result in an error or misinterpretation.\n",
      "  FutureWarning\n"
     ]
    },
    {
     "data": {
      "image/png": "[encoded data removed]",
      "text/plain": [
       "<Figure size 432x288 with 1 Axes>"
      ]
     },
     "metadata": {
      "needs_background": "light"
     },
     "output_type": "display_data"
    }
   ],
   "source": [
    "n=data.label\n",
    "hum ,spam = n.value_counts()\n",
    "print('Number of hum',hum)\n",
    "print('Number of spam',spam)\n",
    "ax=sns.countplot(n,data = data,label='Count')"
   ]
  },
  {
   "cell_type": "code",
   "execution_count": 9,
   "id": "832abfa6",
   "metadata": {
    "execution": {
     "iopub.execute_input": "2021-12-23T18:18:52.924030Z",
     "iopub.status.busy": "2021-12-23T18:18:52.923433Z",
     "iopub.status.idle": "2021-12-23T18:18:52.931813Z",
     "shell.execute_reply": "2021-12-23T18:18:52.932341Z",
     "shell.execute_reply.started": "2021-12-23T18:16:33.623999Z"
    },
    "id": "eqbkz7GwH0sJ",
    "outputId": "1f8034ce-95bd-4630-b069-18d47a982d2f",
    "papermill": {
     "duration": 0.060111,
     "end_time": "2021-12-23T18:18:52.932505",
     "exception": false,
     "start_time": "2021-12-23T18:18:52.872394",
     "status": "completed"
    },
    "tags": []
   },
   "outputs": [
    {
     "data": {
      "text/plain": [
       "label       0\n",
       "messages    0\n",
       "dtype: int64"
      ]
     },
     "execution_count": 9,
     "metadata": {},
     "output_type": "execute_result"
    }
   ],
   "source": [
    "data.isnull().sum()"
   ]
  },
  {
   "cell_type": "code",
   "execution_count": 10,
   "id": "fc41c3b3",
   "metadata": {
    "execution": {
     "iopub.execute_input": "2021-12-23T18:18:53.034921Z",
     "iopub.status.busy": "2021-12-23T18:18:53.034078Z",
     "iopub.status.idle": "2021-12-23T18:18:53.044144Z",
     "shell.execute_reply": "2021-12-23T18:18:53.043467Z",
     "shell.execute_reply.started": "2021-12-23T18:16:33.636169Z"
    },
    "id": "Q3XUB3euH5hl",
    "outputId": "0decedbe-0bf3-48b6-97a4-1cd0f443f2ad",
    "papermill": {
     "duration": 0.061766,
     "end_time": "2021-12-23T18:18:53.044301",
     "exception": false,
     "start_time": "2021-12-23T18:18:52.982535",
     "status": "completed"
    },
    "tags": []
   },
   "outputs": [
    {
     "data": {
      "text/plain": [
       "403"
      ]
     },
     "execution_count": 10,
     "metadata": {},
     "output_type": "execute_result"
    }
   ],
   "source": [
    "data.duplicated().sum()"
   ]
  },
  {
   "cell_type": "code",
   "execution_count": 11,
   "id": "319bb58f",
   "metadata": {
    "execution": {
     "iopub.execute_input": "2021-12-23T18:18:53.150511Z",
     "iopub.status.busy": "2021-12-23T18:18:53.149865Z",
     "iopub.status.idle": "2021-12-23T18:18:53.155252Z",
     "shell.execute_reply": "2021-12-23T18:18:53.154592Z",
     "shell.execute_reply.started": "2021-12-23T18:16:33.649194Z"
    },
    "id": "n37QUwagIHXP",
    "papermill": {
     "duration": 0.060715,
     "end_time": "2021-12-23T18:18:53.155398",
     "exception": false,
     "start_time": "2021-12-23T18:18:53.094683",
     "status": "completed"
    },
    "tags": []
   },
   "outputs": [],
   "source": [
    "#remove all duplicate rows\n",
    "data.drop_duplicates(inplace=True)"
   ]
  },
  {
   "cell_type": "code",
   "execution_count": 12,
   "id": "53f72309",
   "metadata": {
    "execution": {
     "iopub.execute_input": "2021-12-23T18:18:53.259414Z",
     "iopub.status.busy": "2021-12-23T18:18:53.258699Z",
     "iopub.status.idle": "2021-12-23T18:18:53.261410Z",
     "shell.execute_reply": "2021-12-23T18:18:53.260927Z",
     "shell.execute_reply.started": "2021-12-23T18:16:33.658863Z"
    },
    "id": "pdfbJ87DPLgY",
    "papermill": {
     "duration": 0.05694,
     "end_time": "2021-12-23T18:18:53.261551",
     "exception": false,
     "start_time": "2021-12-23T18:18:53.204611",
     "status": "completed"
    },
    "tags": []
   },
   "outputs": [],
   "source": [
    "#reset index\n",
    "data.reset_index(inplace=True)"
   ]
  },
  {
   "cell_type": "code",
   "execution_count": 13,
   "id": "3442eb9c",
   "metadata": {
    "execution": {
     "iopub.execute_input": "2021-12-23T18:18:53.362613Z",
     "iopub.status.busy": "2021-12-23T18:18:53.361875Z",
     "iopub.status.idle": "2021-12-23T18:18:53.368152Z",
     "shell.execute_reply": "2021-12-23T18:18:53.367620Z",
     "shell.execute_reply.started": "2021-12-23T18:16:33.666434Z"
    },
    "id": "rhF1J_ZZPgXT",
    "papermill": {
     "duration": 0.057928,
     "end_time": "2021-12-23T18:18:53.368325",
     "exception": false,
     "start_time": "2021-12-23T18:18:53.310397",
     "status": "completed"
    },
    "tags": []
   },
   "outputs": [],
   "source": [
    "#remove old index column\n",
    "data.drop(\"index\",axis=1,inplace=True)"
   ]
  },
  {
   "cell_type": "code",
   "execution_count": 14,
   "id": "6b304347",
   "metadata": {
    "execution": {
     "iopub.execute_input": "2021-12-23T18:18:53.470354Z",
     "iopub.status.busy": "2021-12-23T18:18:53.469738Z",
     "iopub.status.idle": "2021-12-23T18:18:53.481672Z",
     "shell.execute_reply": "2021-12-23T18:18:53.482344Z",
     "shell.execute_reply.started": "2021-12-23T18:16:33.677293Z"
    },
    "id": "Wr5GocBnISaO",
    "outputId": "b5f0c281-fc51-4b25-c76d-d197a6343ec9",
    "papermill": {
     "duration": 0.064203,
     "end_time": "2021-12-23T18:18:53.482509",
     "exception": false,
     "start_time": "2021-12-23T18:18:53.418306",
     "status": "completed"
    },
    "tags": []
   },
   "outputs": [
    {
     "name": "stdout",
     "output_type": "stream",
     "text": [
      "['i', 'me', 'my', 'myself', 'we', 'our', 'ours', 'ourselves', 'you', \"you're\", \"you've\", \"you'll\", \"you'd\", 'your', 'yours', 'yourself', 'yourselves', 'he', 'him', 'his', 'himself', 'she', \"she's\", 'her', 'hers', 'herself', 'it', \"it's\", 'its', 'itself', 'they', 'them', 'their', 'theirs', 'themselves', 'what', 'which', 'who', 'whom', 'this', 'that', \"that'll\", 'these', 'those', 'am', 'is', 'are', 'was', 'were', 'be', 'been', 'being', 'have', 'has', 'had', 'having', 'do', 'does', 'did', 'doing', 'a', 'an', 'the', 'and', 'but', 'if', 'or', 'because', 'as', 'until', 'while', 'of', 'at', 'by', 'for', 'with', 'about', 'against', 'between', 'into', 'through', 'during', 'before', 'after', 'above', 'below', 'to', 'from', 'up', 'down', 'in', 'out', 'on', 'off', 'over', 'under', 'again', 'further', 'then', 'once', 'here', 'there', 'when', 'where', 'why', 'how', 'all', 'any', 'both', 'each', 'few', 'more', 'most', 'other', 'some', 'such', 'no', 'nor', 'not', 'only', 'own', 'same', 'so', 'than', 'too', 'very', 's', 't', 'can', 'will', 'just', 'don', \"don't\", 'should', \"should've\", 'now', 'd', 'll', 'm', 'o', 're', 've', 'y', 'ain', 'aren', \"aren't\", 'couldn', \"couldn't\", 'didn', \"didn't\", 'doesn', \"doesn't\", 'hadn', \"hadn't\", 'hasn', \"hasn't\", 'haven', \"haven't\", 'isn', \"isn't\", 'ma', 'mightn', \"mightn't\", 'mustn', \"mustn't\", 'needn', \"needn't\", 'shan', \"shan't\", 'shouldn', \"shouldn't\", 'wasn', \"wasn't\", 'weren', \"weren't\", 'won', \"won't\", 'wouldn', \"wouldn't\"]\n",
      "179\n"
     ]
    }
   ],
   "source": [
    "print(stopwords.words('english'))\n",
    "print(len(stopwords.words('english')))"
   ]
  },
  {
   "cell_type": "code",
   "execution_count": 15,
   "id": "d7f05eaa",
   "metadata": {
    "execution": {
     "iopub.execute_input": "2021-12-23T18:18:53.585637Z",
     "iopub.status.busy": "2021-12-23T18:18:53.584720Z",
     "iopub.status.idle": "2021-12-23T18:18:53.590125Z",
     "shell.execute_reply": "2021-12-23T18:18:53.590670Z",
     "shell.execute_reply.started": "2021-12-23T18:16:33.695593Z"
    },
    "id": "LM0UCGouI7I5",
    "papermill": {
     "duration": 0.058575,
     "end_time": "2021-12-23T18:18:53.590861",
     "exception": false,
     "start_time": "2021-12-23T18:18:53.532286",
     "status": "completed"
    },
    "tags": []
   },
   "outputs": [],
   "source": [
    "def clean_text(text):\n",
    "  STOPWORDS = set(stopwords.words('english'))\n",
    "  text = text.lower()\n",
    "  text = re.sub(r'[^0-9a-zA-Z]', ' ', text)\n",
    "  text = word_tokenize(text)\n",
    "  # remove extra spaces\n",
    "  text = \" \".join(word for word in text if word not in STOPWORDS)\n",
    "  return text"
   ]
  },
  {
   "cell_type": "code",
   "execution_count": 16,
   "id": "314fe348",
   "metadata": {
    "execution": {
     "iopub.execute_input": "2021-12-23T18:18:53.696122Z",
     "iopub.status.busy": "2021-12-23T18:18:53.695176Z",
     "iopub.status.idle": "2021-12-23T18:18:55.693210Z",
     "shell.execute_reply": "2021-12-23T18:18:55.692658Z",
     "shell.execute_reply.started": "2021-12-23T18:16:33.701144Z"
    },
    "id": "5jmGWPDtL3rx",
    "papermill": {
     "duration": 2.052592,
     "end_time": "2021-12-23T18:18:55.693361",
     "exception": false,
     "start_time": "2021-12-23T18:18:53.640769",
     "status": "completed"
    },
    "tags": []
   },
   "outputs": [],
   "source": [
    "# clean the messages\n",
    "data['messages'] = data['messages'].apply(clean_text)"
   ]
  },
  {
   "cell_type": "code",
   "execution_count": 17,
   "id": "589447e4",
   "metadata": {
    "execution": {
     "iopub.execute_input": "2021-12-23T18:18:55.798151Z",
     "iopub.status.busy": "2021-12-23T18:18:55.797511Z",
     "iopub.status.idle": "2021-12-23T18:18:55.800825Z",
     "shell.execute_reply": "2021-12-23T18:18:55.801279Z",
     "shell.execute_reply.started": "2021-12-23T18:16:35.243501Z"
    },
    "id": "-GHEjsRFWaNj",
    "outputId": "10908176-a735-416e-b22c-d8ceac8b983a",
    "papermill": {
     "duration": 0.058256,
     "end_time": "2021-12-23T18:18:55.801455",
     "exception": false,
     "start_time": "2021-12-23T18:18:55.743199",
     "status": "completed"
    },
    "tags": []
   },
   "outputs": [
    {
     "data": {
      "text/plain": [
       "'free entry 2 wkly comp win fa cup final tkts 21st may 2005 text fa 87121 receive entry question std txt rate c apply 08452810075over18'"
      ]
     },
     "execution_count": 17,
     "metadata": {},
     "output_type": "execute_result"
    }
   ],
   "source": [
    "data['messages'][2]"
   ]
  },
  {
   "cell_type": "code",
   "execution_count": 18,
   "id": "3444a423",
   "metadata": {
    "execution": {
     "iopub.execute_input": "2021-12-23T18:18:55.904739Z",
     "iopub.status.busy": "2021-12-23T18:18:55.904089Z",
     "iopub.status.idle": "2021-12-23T18:18:55.908462Z",
     "shell.execute_reply": "2021-12-23T18:18:55.908985Z",
     "shell.execute_reply.started": "2021-12-23T18:16:35.250431Z"
    },
    "id": "utgiXtdMWqkD",
    "papermill": {
     "duration": 0.057359,
     "end_time": "2021-12-23T18:18:55.909146",
     "exception": false,
     "start_time": "2021-12-23T18:18:55.851787",
     "status": "completed"
    },
    "tags": []
   },
   "outputs": [],
   "source": [
    "stemmer = PorterStemmer()\n",
    "def stemSentence(text):\n",
    "    token_words=word_tokenize(text)\n",
    "    stem_sentence=[]\n",
    "    for word in token_words:\n",
    "        stem_sentence.append(stemmer.stem(word))\n",
    "        stem_sentence.append(\" \")\n",
    "    return \"\".join(stem_sentence)"
   ]
  },
  {
   "cell_type": "code",
   "execution_count": 19,
   "id": "256fbc79",
   "metadata": {
    "execution": {
     "iopub.execute_input": "2021-12-23T18:18:56.014034Z",
     "iopub.status.busy": "2021-12-23T18:18:56.013401Z",
     "iopub.status.idle": "2021-12-23T18:18:58.135308Z",
     "shell.execute_reply": "2021-12-23T18:18:58.136010Z",
     "shell.execute_reply.started": "2021-12-23T18:16:35.260994Z"
    },
    "id": "sW-lHJeDXwhj",
    "papermill": {
     "duration": 2.176107,
     "end_time": "2021-12-23T18:18:58.136219",
     "exception": false,
     "start_time": "2021-12-23T18:18:55.960112",
     "status": "completed"
    },
    "tags": []
   },
   "outputs": [],
   "source": [
    "# clean the messages\n",
    "data['messages'] = data['messages'].apply(stemSentence)"
   ]
  },
  {
   "cell_type": "code",
   "execution_count": 20,
   "id": "abaa6c34",
   "metadata": {
    "execution": {
     "iopub.execute_input": "2021-12-23T18:18:58.239791Z",
     "iopub.status.busy": "2021-12-23T18:18:58.239161Z",
     "iopub.status.idle": "2021-12-23T18:18:58.243418Z",
     "shell.execute_reply": "2021-12-23T18:18:58.243917Z",
     "shell.execute_reply.started": "2021-12-23T18:16:36.638887Z"
    },
    "id": "zzftVMIQX2xP",
    "outputId": "9a08614f-a20d-49e0-fb6d-a6d9075f19d4",
    "papermill": {
     "duration": 0.058078,
     "end_time": "2021-12-23T18:18:58.244091",
     "exception": false,
     "start_time": "2021-12-23T18:18:58.186013",
     "status": "completed"
    },
    "tags": []
   },
   "outputs": [
    {
     "data": {
      "text/plain": [
       "'free entri 2 wkli comp win fa cup final tkt 21st may 2005 text fa 87121 receiv entri question std txt rate c appli 08452810075over18 '"
      ]
     },
     "execution_count": 20,
     "metadata": {},
     "output_type": "execute_result"
    }
   ],
   "source": [
    "data['messages'][2]"
   ]
  },
  {
   "cell_type": "code",
   "execution_count": 21,
   "id": "7e71b0a8",
   "metadata": {
    "execution": {
     "iopub.execute_input": "2021-12-23T18:18:58.348179Z",
     "iopub.status.busy": "2021-12-23T18:18:58.347185Z",
     "iopub.status.idle": "2021-12-23T18:18:58.353391Z",
     "shell.execute_reply": "2021-12-23T18:18:58.353973Z",
     "shell.execute_reply.started": "2021-12-23T18:16:36.646780Z"
    },
    "id": "N6zh-YhqYbXT",
    "papermill": {
     "duration": 0.060059,
     "end_time": "2021-12-23T18:18:58.354138",
     "exception": false,
     "start_time": "2021-12-23T18:18:58.294079",
     "status": "completed"
    },
    "tags": []
   },
   "outputs": [],
   "source": [
    "# label encoding of target column\n",
    "le = LabelEncoder()\n",
    "data['label'] = le.fit_transform(data['label'])"
   ]
  },
  {
   "cell_type": "code",
   "execution_count": 22,
   "id": "15b71e46",
   "metadata": {
    "execution": {
     "iopub.execute_input": "2021-12-23T18:18:58.459463Z",
     "iopub.status.busy": "2021-12-23T18:18:58.458466Z",
     "iopub.status.idle": "2021-12-23T18:18:58.469910Z",
     "shell.execute_reply": "2021-12-23T18:18:58.469410Z",
     "shell.execute_reply.started": "2021-12-23T18:16:36.660964Z"
    },
    "id": "JnY9keTAYzrC",
    "outputId": "db50725e-cbcc-491e-c4c2-d6cf94dbdb19",
    "papermill": {
     "duration": 0.064475,
     "end_time": "2021-12-23T18:18:58.470050",
     "exception": false,
     "start_time": "2021-12-23T18:18:58.405575",
     "status": "completed"
    },
    "tags": []
   },
   "outputs": [
    {
     "data": {
      "text/html": [
       "<div>\n",
       "<style scoped>\n",
       "    .dataframe tbody tr th:only-of-type {\n",
       "        vertical-align: middle;\n",
       "    }\n",
       "\n",
       "    .dataframe tbody tr th {\n",
       "        vertical-align: top;\n",
       "    }\n",
       "\n",
       "    .dataframe thead th {\n",
       "        text-align: right;\n",
       "    }\n",
       "</style>\n",
       "<table border=\"1\" class=\"dataframe\">\n",
       "  <thead>\n",
       "    <tr style=\"text-align: right;\">\n",
       "      <th></th>\n",
       "      <th>label</th>\n",
       "      <th>messages</th>\n",
       "    </tr>\n",
       "  </thead>\n",
       "  <tbody>\n",
       "    <tr>\n",
       "      <th>0</th>\n",
       "      <td>0</td>\n",
       "      <td>go jurong point crazi avail bugi n great world...</td>\n",
       "    </tr>\n",
       "    <tr>\n",
       "      <th>1</th>\n",
       "      <td>0</td>\n",
       "      <td>ok lar joke wif u oni</td>\n",
       "    </tr>\n",
       "    <tr>\n",
       "      <th>2</th>\n",
       "      <td>1</td>\n",
       "      <td>free entri 2 wkli comp win fa cup final tkt 21...</td>\n",
       "    </tr>\n",
       "    <tr>\n",
       "      <th>3</th>\n",
       "      <td>0</td>\n",
       "      <td>u dun say earli hor u c alreadi say</td>\n",
       "    </tr>\n",
       "    <tr>\n",
       "      <th>4</th>\n",
       "      <td>0</td>\n",
       "      <td>nah think goe usf live around though</td>\n",
       "    </tr>\n",
       "    <tr>\n",
       "      <th>...</th>\n",
       "      <td>...</td>\n",
       "      <td>...</td>\n",
       "    </tr>\n",
       "    <tr>\n",
       "      <th>5164</th>\n",
       "      <td>1</td>\n",
       "      <td>2nd time tri 2 contact u u 750 pound prize 2 c...</td>\n",
       "    </tr>\n",
       "    <tr>\n",
       "      <th>5165</th>\n",
       "      <td>0</td>\n",
       "      <td>b go esplanad fr home</td>\n",
       "    </tr>\n",
       "    <tr>\n",
       "      <th>5166</th>\n",
       "      <td>0</td>\n",
       "      <td>piti mood suggest</td>\n",
       "    </tr>\n",
       "    <tr>\n",
       "      <th>5167</th>\n",
       "      <td>0</td>\n",
       "      <td>guy bitch act like interest buy someth els nex...</td>\n",
       "    </tr>\n",
       "    <tr>\n",
       "      <th>5168</th>\n",
       "      <td>0</td>\n",
       "      <td>rofl true name</td>\n",
       "    </tr>\n",
       "  </tbody>\n",
       "</table>\n",
       "<p>5169 rows × 2 columns</p>\n",
       "</div>"
      ],
      "text/plain": [
       "      label                                           messages\n",
       "0         0  go jurong point crazi avail bugi n great world...\n",
       "1         0                             ok lar joke wif u oni \n",
       "2         1  free entri 2 wkli comp win fa cup final tkt 21...\n",
       "3         0               u dun say earli hor u c alreadi say \n",
       "4         0              nah think goe usf live around though \n",
       "...     ...                                                ...\n",
       "5164      1  2nd time tri 2 contact u u 750 pound prize 2 c...\n",
       "5165      0                             b go esplanad fr home \n",
       "5166      0                                 piti mood suggest \n",
       "5167      0  guy bitch act like interest buy someth els nex...\n",
       "5168      0                                    rofl true name \n",
       "\n",
       "[5169 rows x 2 columns]"
      ]
     },
     "execution_count": 22,
     "metadata": {},
     "output_type": "execute_result"
    }
   ],
   "source": [
    "data"
   ]
  },
  {
   "cell_type": "code",
   "execution_count": 23,
   "id": "45e1e91e",
   "metadata": {
    "execution": {
     "iopub.execute_input": "2021-12-23T18:18:58.576444Z",
     "iopub.status.busy": "2021-12-23T18:18:58.575775Z",
     "iopub.status.idle": "2021-12-23T18:18:58.577708Z",
     "shell.execute_reply": "2021-12-23T18:18:58.578216Z",
     "shell.execute_reply.started": "2021-12-23T18:16:36.679715Z"
    },
    "id": "UZaGRZvuYMsS",
    "papermill": {
     "duration": 0.057794,
     "end_time": "2021-12-23T18:18:58.578383",
     "exception": false,
     "start_time": "2021-12-23T18:18:58.520589",
     "status": "completed"
    },
    "tags": []
   },
   "outputs": [],
   "source": [
    "X = data['messages']\n",
    "y = data['label']"
   ]
  },
  {
   "cell_type": "code",
   "execution_count": 24,
   "id": "c492ab4a",
   "metadata": {
    "execution": {
     "iopub.execute_input": "2021-12-23T18:18:58.683406Z",
     "iopub.status.busy": "2021-12-23T18:18:58.682746Z",
     "iopub.status.idle": "2021-12-23T18:18:58.789151Z",
     "shell.execute_reply": "2021-12-23T18:18:58.788469Z",
     "shell.execute_reply.started": "2021-12-23T18:16:36.690024Z"
    },
    "id": "pur2_VhcYZkk",
    "papermill": {
     "duration": 0.159807,
     "end_time": "2021-12-23T18:18:58.789304",
     "exception": false,
     "start_time": "2021-12-23T18:18:58.629497",
     "status": "completed"
    },
    "tags": []
   },
   "outputs": [],
   "source": [
    "vectorizer = TfidfVectorizer()\n",
    "vectors = vectorizer.fit_transform(X)"
   ]
  },
  {
   "cell_type": "code",
   "execution_count": 25,
   "id": "63a6048c",
   "metadata": {
    "execution": {
     "iopub.execute_input": "2021-12-23T18:18:58.896664Z",
     "iopub.status.busy": "2021-12-23T18:18:58.896013Z",
     "iopub.status.idle": "2021-12-23T18:18:58.901016Z",
     "shell.execute_reply": "2021-12-23T18:18:58.900266Z",
     "shell.execute_reply.started": "2021-12-23T18:16:36.769556Z"
    },
    "id": "cEUSn5uxZUxu",
    "outputId": "983411a1-613b-45eb-a6e2-c642e51eb320",
    "papermill": {
     "duration": 0.060934,
     "end_time": "2021-12-23T18:18:58.901200",
     "exception": false,
     "start_time": "2021-12-23T18:18:58.840266",
     "status": "completed"
    },
    "tags": []
   },
   "outputs": [
    {
     "name": "stdout",
     "output_type": "stream",
     "text": [
      "(5169, 7159)\n",
      "(5169,)\n"
     ]
    }
   ],
   "source": [
    "print(vectors.shape)\n",
    "print(y.shape)"
   ]
  },
  {
   "cell_type": "code",
   "execution_count": 26,
   "id": "9b33a2d2",
   "metadata": {
    "execution": {
     "iopub.execute_input": "2021-12-23T18:18:59.008954Z",
     "iopub.status.busy": "2021-12-23T18:18:59.008003Z",
     "iopub.status.idle": "2021-12-23T18:18:59.023573Z",
     "shell.execute_reply": "2021-12-23T18:18:59.024099Z",
     "shell.execute_reply.started": "2021-12-23T18:16:36.777188Z"
    },
    "id": "n7RHP_ISZegn",
    "outputId": "24395f76-8705-43cd-a5df-96c3293ec92b",
    "papermill": {
     "duration": 0.07022,
     "end_time": "2021-12-23T18:18:59.024275",
     "exception": false,
     "start_time": "2021-12-23T18:18:58.954055",
     "status": "completed"
    },
    "tags": []
   },
   "outputs": [
    {
     "name": "stdout",
     "output_type": "stream",
     "text": [
      "X_Train\n",
      "  (0, 1962)\t0.6018111977335596\n",
      "  (0, 5248)\t0.3844810847663267\n",
      "  (0, 2006)\t0.37540845009023915\n",
      "  (0, 7005)\t0.3253459223939063\n",
      "  (0, 4168)\t0.3265173968154751\n",
      "  (0, 4483)\t0.3695977457977195\n",
      "  (1, 3614)\t0.6364232290053494\n",
      "  (1, 6855)\t0.545766007239593\n",
      "  (1, 3971)\t0.34545272943311967\n",
      "  (1, 2413)\t0.42162465612362504\n",
      "  (2, 6115)\t0.29060888423736003\n",
      "  (2, 959)\t0.2730449716508939\n",
      "  (2, 7106)\t0.26147591818756377\n",
      "  (2, 6481)\t0.21381042952567383\n",
      "  (2, 459)\t0.2667761399064151\n",
      "  (2, 2918)\t0.2528348781835376\n",
      "  (2, 5192)\t0.2006977231253781\n",
      "  (2, 5526)\t0.28071740162929265\n",
      "  (2, 4089)\t0.28071740162929265\n",
      "  (2, 4328)\t0.21506087212971509\n",
      "  (2, 936)\t0.21506087212971509\n",
      "  (2, 4353)\t0.1680380822186428\n",
      "  (2, 7066)\t0.22900213385259263\n",
      "  (2, 3440)\t0.17947763126500488\n",
      "  (2, 1249)\t0.17644820542419853\n",
      "  (2, 5517)\t0.2177070530106053\n",
      "  (2, 6354)\t0.22714311992689482\n",
      "  (2, 2753)\t0.19600179432563225\n",
      "  (2, 6824)\t0.14140333175605288\n",
      "****************************\n",
      "X_test\n",
      "  (0, 3652)\t0.5861557620108255\n",
      "  (0, 1530)\t0.5861557620108255\n",
      "  (0, 6264)\t0.5593235604934026\n",
      "  (1, 2169)\t0.5970791486616966\n",
      "  (1, 2618)\t0.48216277863728885\n",
      "  (1, 4353)\t0.3294433984180421\n",
      "  (1, 6872)\t0.3934735453309785\n",
      "  (1, 2753)\t0.38426704450633514\n",
      "  (2, 2391)\t0.6224367670234968\n",
      "  (2, 852)\t0.5743861625388029\n",
      "  (2, 2441)\t0.5316512083511943\n",
      "(1551, 7159)\n",
      "****************************\n",
      "Y_train\n",
      "1798    0\n",
      "915     0\n",
      "3764    0\n",
      "Name: label, dtype: int64\n",
      "****************************\n",
      "Y_test\n",
      "2186    0\n",
      "4217    0\n",
      "2059    0\n",
      "Name: label, dtype: int64\n"
     ]
    }
   ],
   "source": [
    "X_train, X_test, y_train, y_test = train_test_split(vectors,y,test_size = 0.3,random_state=22)\n",
    "print('X_Train')\n",
    "print(X_train[:3,:])\n",
    "print('****************************')\n",
    "print('X_test')\n",
    "print(X_test[:3,:])\n",
    "print(X_test.shape)\n",
    "print('****************************')\n",
    "print('Y_train')\n",
    "print(y_train[:3,])\n",
    "print('****************************')\n",
    "print('Y_test')\n",
    "print(y_test[:3,])"
   ]
  },
  {
   "cell_type": "code",
   "execution_count": 27,
   "id": "dcd50c1f",
   "metadata": {
    "execution": {
     "iopub.execute_input": "2021-12-23T18:18:59.135388Z",
     "iopub.status.busy": "2021-12-23T18:18:59.131798Z",
     "iopub.status.idle": "2021-12-23T18:19:00.275711Z",
     "shell.execute_reply": "2021-12-23T18:19:00.275156Z",
     "shell.execute_reply.started": "2021-12-23T18:16:36.795242Z"
    },
    "id": "NmpULSCCaJNn",
    "outputId": "ab84f2c0-91d7-44dd-8a92-ca3480734696",
    "papermill": {
     "duration": 1.200175,
     "end_time": "2021-12-23T18:19:00.275872",
     "exception": false,
     "start_time": "2021-12-23T18:18:59.075697",
     "status": "completed"
    },
    "tags": []
   },
   "outputs": [
    {
     "name": "stdout",
     "output_type": "stream",
     "text": [
      "Train Score Value :  [0.98441128 0.98474295 0.98474295 0.98573798 0.98507463 0.98308458]\n",
      "Test Score Value :  [0.96185738 0.95522388 0.97180763 0.960199   0.96351575 0.960199  ]\n",
      "-----------------------------------------------------------------------------------\n",
      "Cross validation Score is 96.21337755666114\n"
     ]
    }
   ],
   "source": [
    "lg=LogisticRegression(C=3,random_state=22)\n",
    "CrossValidateValues = cross_validate(lg,X_train,y_train,cv=6,return_train_score = True)\n",
    "# Showing Results\n",
    "print('Train Score Value : ', CrossValidateValues['train_score'])\n",
    "print('Test Score Value : ', CrossValidateValues['test_score'])\n",
    "print('-----------------------------------------------------------------------------------')\n",
    "\n",
    "# Showing Results\n",
    "score_train = cross_val_score(estimator = lg, X = X_train, y = y_train, cv = 6)\n",
    "print(\"Cross validation Score is\",np.mean(score_train)*100)"
   ]
  },
  {
   "cell_type": "code",
   "execution_count": 28,
   "id": "09c6e9e8",
   "metadata": {
    "execution": {
     "iopub.execute_input": "2021-12-23T18:19:00.385991Z",
     "iopub.status.busy": "2021-12-23T18:19:00.384161Z",
     "iopub.status.idle": "2021-12-23T18:19:00.468286Z",
     "shell.execute_reply": "2021-12-23T18:19:00.468786Z",
     "shell.execute_reply.started": "2021-12-23T18:16:37.782420Z"
    },
    "id": "muOyjfDjaopn",
    "outputId": "37cde6f4-2ebb-4b1a-b5cf-b7f8d5c2ffde",
    "papermill": {
     "duration": 0.139622,
     "end_time": "2021-12-23T18:19:00.468978",
     "exception": false,
     "start_time": "2021-12-23T18:19:00.329356",
     "status": "completed"
    },
    "tags": []
   },
   "outputs": [
    {
     "data": {
      "text/plain": [
       "LogisticRegression(C=3, random_state=22)"
      ]
     },
     "execution_count": 28,
     "metadata": {},
     "output_type": "execute_result"
    }
   ],
   "source": [
    "lg.fit(X_train,y_train)"
   ]
  },
  {
   "cell_type": "code",
   "execution_count": 29,
   "id": "3b8dde49",
   "metadata": {
    "execution": {
     "iopub.execute_input": "2021-12-23T18:19:00.581366Z",
     "iopub.status.busy": "2021-12-23T18:19:00.580710Z",
     "iopub.status.idle": "2021-12-23T18:19:00.587138Z",
     "shell.execute_reply": "2021-12-23T18:19:00.587632Z",
     "shell.execute_reply.started": "2021-12-23T18:16:37.861372Z"
    },
    "id": "vDYV-SZbazgT",
    "outputId": "51701374-0d95-48cc-9335-d7f7a0ef5335",
    "papermill": {
     "duration": 0.065914,
     "end_time": "2021-12-23T18:19:00.587793",
     "exception": false,
     "start_time": "2021-12-23T18:19:00.521879",
     "status": "completed"
    },
    "tags": []
   },
   "outputs": [
    {
     "name": "stdout",
     "output_type": "stream",
     "text": [
      "Y Test   :  [0 0 0 0 1]\n",
      "Y Predict : [0 0 0 0 0]\n"
     ]
    }
   ],
   "source": [
    "y_pred_LR=lg.predict(X_test)\n",
    "print('Y Test   : ',y_test[:5,].ravel())\n",
    "print('Y Predict :',y_pred_LR[:5])"
   ]
  },
  {
   "cell_type": "code",
   "execution_count": 30,
   "id": "abafa371",
   "metadata": {
    "execution": {
     "iopub.execute_input": "2021-12-23T18:19:00.698371Z",
     "iopub.status.busy": "2021-12-23T18:19:00.697733Z",
     "iopub.status.idle": "2021-12-23T18:19:00.703413Z",
     "shell.execute_reply": "2021-12-23T18:19:00.704112Z",
     "shell.execute_reply.started": "2021-12-23T18:16:37.870713Z"
    },
    "id": "S4BKi80va4yI",
    "outputId": "54b39846-469b-4740-cbe6-13386b4b4207",
    "papermill": {
     "duration": 0.063123,
     "end_time": "2021-12-23T18:19:00.704337",
     "exception": false,
     "start_time": "2021-12-23T18:19:00.641214",
     "status": "completed"
    },
    "tags": []
   },
   "outputs": [
    {
     "name": "stdout",
     "output_type": "stream",
     "text": [
      "0.968407479045777\n"
     ]
    }
   ],
   "source": [
    "accuracy_lg=accuracy_score(y_test,y_pred_LR)\n",
    "print(accuracy_lg)"
   ]
  },
  {
   "cell_type": "code",
   "execution_count": 31,
   "id": "7feed73c",
   "metadata": {
    "execution": {
     "iopub.execute_input": "2021-12-23T18:19:00.816295Z",
     "iopub.status.busy": "2021-12-23T18:19:00.815616Z",
     "iopub.status.idle": "2021-12-23T18:19:01.052774Z",
     "shell.execute_reply": "2021-12-23T18:19:01.052220Z",
     "shell.execute_reply.started": "2021-12-23T18:16:37.886230Z"
    },
    "id": "l8E87jDAbJot",
    "outputId": "1836289f-cdc0-40b2-84ef-b6124b986afb",
    "papermill": {
     "duration": 0.294792,
     "end_time": "2021-12-23T18:19:01.052934",
     "exception": false,
     "start_time": "2021-12-23T18:19:00.758142",
     "status": "completed"
    },
    "tags": []
   },
   "outputs": [
    {
     "name": "stdout",
     "output_type": "stream",
     "text": [
      "[[1352    5]\n",
      " [  44  150]]\n"
     ]
    },
    {
     "data": {
      "text/plain": [
       "<function matplotlib.pyplot.show(close=None, block=None)>"
      ]
     },
     "execution_count": 31,
     "metadata": {},
     "output_type": "execute_result"
    },
    {
     "data": {
      "image/png": "[encoded data removed]",
      "text/plain": [
       "<Figure size 432x288 with 2 Axes>"
      ]
     },
     "metadata": {
      "needs_background": "light"
     },
     "output_type": "display_data"
    }
   ],
   "source": [
    "cm=confusion_matrix(y_test,y_pred_LR)\n",
    "print(cm)\n",
    "sns.heatmap(cm,center=True,annot=True)\n",
    "plt.show"
   ]
  },
  {
   "cell_type": "code",
   "execution_count": 32,
   "id": "1978f499",
   "metadata": {
    "execution": {
     "iopub.execute_input": "2021-12-23T18:19:01.167222Z",
     "iopub.status.busy": "2021-12-23T18:19:01.166518Z",
     "iopub.status.idle": "2021-12-23T18:19:01.177596Z",
     "shell.execute_reply": "2021-12-23T18:19:01.176765Z",
     "shell.execute_reply.started": "2021-12-23T18:16:38.059828Z"
    },
    "id": "NtFDIaz7bSZn",
    "outputId": "83615f07-5231-4926-c750-a3a25a3128de",
    "papermill": {
     "duration": 0.070119,
     "end_time": "2021-12-23T18:19:01.177781",
     "exception": false,
     "start_time": "2021-12-23T18:19:01.107662",
     "status": "completed"
    },
    "tags": []
   },
   "outputs": [
    {
     "name": "stdout",
     "output_type": "stream",
     "text": [
      "              precision    recall  f1-score   support\n",
      "\n",
      "           0       0.97      1.00      0.98      1357\n",
      "           1       0.97      0.77      0.86       194\n",
      "\n",
      "    accuracy                           0.97      1551\n",
      "   macro avg       0.97      0.88      0.92      1551\n",
      "weighted avg       0.97      0.97      0.97      1551\n",
      "\n"
     ]
    }
   ],
   "source": [
    "cr=classification_report(y_test,y_pred_LR)\n",
    "print(cr)"
   ]
  },
  {
   "cell_type": "code",
   "execution_count": 33,
   "id": "f902a003",
   "metadata": {
    "execution": {
     "iopub.execute_input": "2021-12-23T18:19:01.295024Z",
     "iopub.status.busy": "2021-12-23T18:19:01.294294Z",
     "iopub.status.idle": "2021-12-23T18:19:01.509773Z",
     "shell.execute_reply": "2021-12-23T18:19:01.510300Z",
     "shell.execute_reply.started": "2021-12-23T18:16:38.073321Z"
    },
    "id": "M7In_4mwbX0f",
    "outputId": "8a85228e-d37c-4b63-b047-c50a93e67601",
    "papermill": {
     "duration": 0.277164,
     "end_time": "2021-12-23T18:19:01.510476",
     "exception": false,
     "start_time": "2021-12-23T18:19:01.233312",
     "status": "completed"
    },
    "tags": []
   },
   "outputs": [
    {
     "name": "stdout",
     "output_type": "stream",
     "text": [
      "LR_tpr:  [0.        0.0036846 1.       ]\n",
      "LR_fpr:  [0.         0.77319588 1.        ]\n",
      "threshold:  [2 1 0]\n"
     ]
    },
    {
     "data": {
      "image/png": "[encoded data removed]",
      "text/plain": [
       "<Figure size 648x576 with 1 Axes>"
      ]
     },
     "metadata": {
      "needs_background": "light"
     },
     "output_type": "display_data"
    }
   ],
   "source": [
    "LR_tpr,LR_fpr,threshold=roc_curve(y_test,y_pred_LR)\n",
    "LR_auc = auc(LR_tpr, LR_fpr)\n",
    "print('LR_tpr: ',LR_tpr)\n",
    "print('LR_fpr: ',LR_fpr)\n",
    "print('threshold: ',threshold)\n",
    "\n",
    "#Draw ROC Curve && AUC [Area Under The Curve]\n",
    "plt.figure(figsize=(9, 8))\n",
    "plt.plot(LR_tpr, LR_fpr, marker='o', label='Logistic Regression (auc = %0.3f)' % LR_auc)\n",
    "plt.ylabel('True Positive Rate -->')\n",
    "plt.xlabel('False Positive Rate -->')\n",
    "\n",
    "plt.legend()\n",
    "\n",
    "plt.show()"
   ]
  },
  {
   "cell_type": "code",
   "execution_count": 34,
   "id": "fee1283f",
   "metadata": {
    "execution": {
     "iopub.execute_input": "2021-12-23T18:19:01.627443Z",
     "iopub.status.busy": "2021-12-23T18:19:01.626616Z",
     "iopub.status.idle": "2021-12-23T18:19:22.225311Z",
     "shell.execute_reply": "2021-12-23T18:19:22.225762Z",
     "shell.execute_reply.started": "2021-12-23T18:16:38.227113Z"
    },
    "id": "HUttDrz1bgwq",
    "outputId": "5f27c225-4994-4b55-96a6-465bc826fe67",
    "papermill": {
     "duration": 20.658758,
     "end_time": "2021-12-23T18:19:22.225969",
     "exception": false,
     "start_time": "2021-12-23T18:19:01.567211",
     "status": "completed"
    },
    "tags": []
   },
   "outputs": [
    {
     "name": "stdout",
     "output_type": "stream",
     "text": [
      "train Score Value :  [1. 1. 1. 1. 1. 1. 1. 1.]\n",
      "Test Score Value :  [0.97130243 0.98013245 0.96238938 0.97787611 0.97566372 0.97123894\n",
      " 0.96681416 0.96902655]\n",
      "Cross validation is 97.18054660180898\n"
     ]
    }
   ],
   "source": [
    "s_v_c = SVC(C = 3, kernel='rbf' , random_state=22)\n",
    "CrossValidateValues_svc = cross_validate(s_v_c,X_train,y_train,cv=8,return_train_score = True)\n",
    "\n",
    "# Showing Results\n",
    "print('train Score Value : ', CrossValidateValues_svc['train_score'])\n",
    "print('Test Score Value : ', CrossValidateValues_svc['test_score'])\n",
    "#print('//////////////////////////////////////')\n",
    "\n",
    "# Showing Results\n",
    "score2_train = cross_val_score(estimator = s_v_c, X = X_train, y = y_train, cv = 8)\n",
    "print(\"Cross validation is\",np.mean(score2_train)*100)"
   ]
  },
  {
   "cell_type": "code",
   "execution_count": 35,
   "id": "22ebebf7",
   "metadata": {
    "execution": {
     "iopub.execute_input": "2021-12-23T18:19:22.342249Z",
     "iopub.status.busy": "2021-12-23T18:19:22.341640Z",
     "iopub.status.idle": "2021-12-23T18:19:23.502800Z",
     "shell.execute_reply": "2021-12-23T18:19:23.503296Z",
     "shell.execute_reply.started": "2021-12-23T18:16:58.794071Z"
    },
    "id": "4pW6uyVQbr1S",
    "outputId": "82bc2a75-2422-4f50-fb2c-f037c160843f",
    "papermill": {
     "duration": 1.221015,
     "end_time": "2021-12-23T18:19:23.503473",
     "exception": false,
     "start_time": "2021-12-23T18:19:22.282458",
     "status": "completed"
    },
    "tags": []
   },
   "outputs": [
    {
     "data": {
      "text/plain": [
       "SVC(C=3, random_state=22)"
      ]
     },
     "execution_count": 35,
     "metadata": {},
     "output_type": "execute_result"
    }
   ],
   "source": [
    "s_v_c.fit(X_train,y_train)\n"
   ]
  },
  {
   "cell_type": "code",
   "execution_count": 36,
   "id": "084608f8",
   "metadata": {
    "execution": {
     "iopub.execute_input": "2021-12-23T18:19:23.620487Z",
     "iopub.status.busy": "2021-12-23T18:19:23.619817Z",
     "iopub.status.idle": "2021-12-23T18:19:23.952667Z",
     "shell.execute_reply": "2021-12-23T18:19:23.953150Z",
     "shell.execute_reply.started": "2021-12-23T18:16:59.963755Z"
    },
    "id": "p9FWGlZKbvMC",
    "outputId": "71022748-33a0-459a-8251-329f37441d22",
    "papermill": {
     "duration": 0.393021,
     "end_time": "2021-12-23T18:19:23.953341",
     "exception": false,
     "start_time": "2021-12-23T18:19:23.560320",
     "status": "completed"
    },
    "tags": []
   },
   "outputs": [
    {
     "name": "stdout",
     "output_type": "stream",
     "text": [
      "Y Test:  2186    0\n",
      "4217    0\n",
      "2059    0\n",
      "2611    0\n",
      "1812    1\n",
      "Name: label, dtype: int64\n",
      "Y Predict: , [0 0 0 0 0]\n"
     ]
    }
   ],
   "source": [
    "y_pred_svc=s_v_c.predict(X_test)\n",
    "print('Y Test: ',y_test[:5,])\n",
    "print('Y Predict: ,',y_pred_svc[:5,])"
   ]
  },
  {
   "cell_type": "code",
   "execution_count": 37,
   "id": "a4c89b47",
   "metadata": {
    "execution": {
     "iopub.execute_input": "2021-12-23T18:19:24.073382Z",
     "iopub.status.busy": "2021-12-23T18:19:24.072683Z",
     "iopub.status.idle": "2021-12-23T18:19:24.076610Z",
     "shell.execute_reply": "2021-12-23T18:19:24.077114Z",
     "shell.execute_reply.started": "2021-12-23T18:17:00.284695Z"
    },
    "id": "thg7VvKAbyIz",
    "outputId": "7a4267ae-911e-418c-b364-258b430e7dc6",
    "papermill": {
     "duration": 0.066698,
     "end_time": "2021-12-23T18:19:24.077282",
     "exception": false,
     "start_time": "2021-12-23T18:19:24.010584",
     "status": "completed"
    },
    "tags": []
   },
   "outputs": [
    {
     "name": "stdout",
     "output_type": "stream",
     "text": [
      "0.9761444229529336\n"
     ]
    }
   ],
   "source": [
    "accuracy_s=accuracy_score(y_test,y_pred_svc)\n",
    "print(accuracy_s)"
   ]
  },
  {
   "cell_type": "code",
   "execution_count": 38,
   "id": "68275c44",
   "metadata": {
    "execution": {
     "iopub.execute_input": "2021-12-23T18:19:24.198244Z",
     "iopub.status.busy": "2021-12-23T18:19:24.197607Z",
     "iopub.status.idle": "2021-12-23T18:19:24.417156Z",
     "shell.execute_reply": "2021-12-23T18:19:24.416656Z",
     "shell.execute_reply.started": "2021-12-23T18:17:00.292140Z"
    },
    "id": "4WDCh7DcdlsJ",
    "outputId": "e3a81a16-8313-4c8d-f590-5579f0a3472b",
    "papermill": {
     "duration": 0.282278,
     "end_time": "2021-12-23T18:19:24.417304",
     "exception": false,
     "start_time": "2021-12-23T18:19:24.135026",
     "status": "completed"
    },
    "tags": []
   },
   "outputs": [
    {
     "name": "stdout",
     "output_type": "stream",
     "text": [
      "[[1354    3]\n",
      " [  34  160]]\n"
     ]
    },
    {
     "data": {
      "image/png": "[encoded data removed]",
      "text/plain": [
       "<Figure size 648x360 with 2 Axes>"
      ]
     },
     "metadata": {
      "needs_background": "light"
     },
     "output_type": "display_data"
    }
   ],
   "source": [
    "cm=confusion_matrix(y_test,y_pred_svc)\n",
    "print(cm)\n",
    "plt.figure(figsize=(9,5))\n",
    "sns.heatmap(cm,center=True,annot=True)\n",
    "plt.show()"
   ]
  },
  {
   "cell_type": "code",
   "execution_count": 39,
   "id": "bb6eacb9",
   "metadata": {
    "execution": {
     "iopub.execute_input": "2021-12-23T18:19:24.539646Z",
     "iopub.status.busy": "2021-12-23T18:19:24.538587Z",
     "iopub.status.idle": "2021-12-23T18:19:24.547501Z",
     "shell.execute_reply": "2021-12-23T18:19:24.548061Z",
     "shell.execute_reply.started": "2021-12-23T18:17:00.455593Z"
    },
    "id": "i5Ayy9TQdpYC",
    "outputId": "685c1eb9-6ca4-41fa-8f4d-e432dab056a3",
    "papermill": {
     "duration": 0.072289,
     "end_time": "2021-12-23T18:19:24.548242",
     "exception": false,
     "start_time": "2021-12-23T18:19:24.475953",
     "status": "completed"
    },
    "tags": []
   },
   "outputs": [
    {
     "name": "stdout",
     "output_type": "stream",
     "text": [
      "              precision    recall  f1-score   support\n",
      "\n",
      "           0       0.98      1.00      0.99      1357\n",
      "           1       0.98      0.82      0.90       194\n",
      "\n",
      "    accuracy                           0.98      1551\n",
      "   macro avg       0.98      0.91      0.94      1551\n",
      "weighted avg       0.98      0.98      0.98      1551\n",
      "\n"
     ]
    }
   ],
   "source": [
    "cr=classification_report(y_test,y_pred_svc)\n",
    "print(cr)"
   ]
  },
  {
   "cell_type": "code",
   "execution_count": 40,
   "id": "081325b2",
   "metadata": {
    "execution": {
     "iopub.execute_input": "2021-12-23T18:19:24.676580Z",
     "iopub.status.busy": "2021-12-23T18:19:24.675556Z",
     "iopub.status.idle": "2021-12-23T18:19:24.879705Z",
     "shell.execute_reply": "2021-12-23T18:19:24.880231Z",
     "shell.execute_reply.started": "2021-12-23T18:17:00.471971Z"
    },
    "id": "o8Fu8ANfdu8L",
    "outputId": "1ab84eab-fa6b-4b59-b5be-68040e81f614",
    "papermill": {
     "duration": 0.273205,
     "end_time": "2021-12-23T18:19:24.880408",
     "exception": false,
     "start_time": "2021-12-23T18:19:24.607203",
     "status": "completed"
    },
    "tags": []
   },
   "outputs": [
    {
     "name": "stdout",
     "output_type": "stream",
     "text": [
      "svm_tpr [0.         0.00221076 1.        ]\n",
      "svm_fpr [0.         0.82474227 1.        ]\n",
      "threshold [2 1 0]\n"
     ]
    },
    {
     "data": {
      "image/png": "[encoded data removed]",
      "text/plain": [
       "<Figure size 648x360 with 1 Axes>"
      ]
     },
     "metadata": {
      "needs_background": "light"
     },
     "output_type": "display_data"
    }
   ],
   "source": [
    "svm_tpr,svm_fpr,threshold=roc_curve(y_test,y_pred_svc)\n",
    "svm_auc=auc(svm_tpr,svm_fpr)\n",
    "print('svm_tpr',svm_tpr)\n",
    "print('svm_fpr',svm_fpr)\n",
    "print('threshold',threshold)\n",
    "\n",
    "\n",
    "#Draw ROC Curve && AUC [Area Under The Curve]\n",
    "plt.figure(figsize=(9, 5))\n",
    "plt.plot(svm_tpr, svm_fpr, linestyle=':', label='SVM (auc = %0.3f)' % svm_auc)\n",
    "\n",
    "plt.xlabel('False Positive Rate -->')\n",
    "plt.ylabel('True Positive Rate -->')\n",
    "\n",
    "plt.legend()\n",
    "\n",
    "plt.show()"
   ]
  },
  {
   "cell_type": "code",
   "execution_count": 41,
   "id": "9f3394ed",
   "metadata": {
    "execution": {
     "iopub.execute_input": "2021-12-23T18:19:25.004610Z",
     "iopub.status.busy": "2021-12-23T18:19:25.003972Z",
     "iopub.status.idle": "2021-12-23T18:19:52.687237Z",
     "shell.execute_reply": "2021-12-23T18:19:52.686634Z",
     "shell.execute_reply.started": "2021-12-23T18:17:00.618428Z"
    },
    "id": "cMzrNp9CcAZR",
    "outputId": "88ee15e8-5302-41cf-c5fa-724583de70e8",
    "papermill": {
     "duration": 27.746829,
     "end_time": "2021-12-23T18:19:52.687389",
     "exception": false,
     "start_time": "2021-12-23T18:19:24.940560",
     "status": "completed"
    },
    "tags": []
   },
   "outputs": [
    {
     "name": "stdout",
     "output_type": "stream",
     "text": [
      "train Score Value :  [1. 1. 1. 1. 1. 1.]\n",
      "Test Score Value :  [0.9800995  0.96849088 0.97512438 0.97180763 0.96849088 0.97180763]\n",
      "Cross validation is 97.2636815920398\n"
     ]
    }
   ],
   "source": [
    "rf=RandomForestClassifier(criterion = 'entropy',random_state=22)\n",
    "CrossValidateValues_rf = cross_validate(rf,X_train,y_train,cv = 6,return_train_score = True) \n",
    "\n",
    "print('train Score Value : ', CrossValidateValues_rf['train_score'])\n",
    "print('Test Score Value : ', CrossValidateValues_rf['test_score'])\n",
    "\n",
    "#print('//////////////////////////////////////')\n",
    "\n",
    "# Showing Results\n",
    "\n",
    "# Showing Results\n",
    "score5_train = cross_val_score(estimator =rf, X = X_train, y = y_train, cv = 6)\n",
    "print(\"Cross validation is\",np.mean(score5_train)*100)\n"
   ]
  },
  {
   "cell_type": "code",
   "execution_count": 42,
   "id": "d0c2f576",
   "metadata": {
    "execution": {
     "iopub.execute_input": "2021-12-23T18:19:52.822984Z",
     "iopub.status.busy": "2021-12-23T18:19:52.822284Z",
     "iopub.status.idle": "2021-12-23T18:19:55.558133Z",
     "shell.execute_reply": "2021-12-23T18:19:55.558577Z",
     "shell.execute_reply.started": "2021-12-23T18:17:27.571988Z"
    },
    "id": "rRaxQysrcdrZ",
    "outputId": "684a04ea-c195-497e-c835-e84cb3e3a831",
    "papermill": {
     "duration": 2.805019,
     "end_time": "2021-12-23T18:19:55.558758",
     "exception": false,
     "start_time": "2021-12-23T18:19:52.753739",
     "status": "completed"
    },
    "tags": []
   },
   "outputs": [
    {
     "data": {
      "text/plain": [
       "RandomForestClassifier(criterion='entropy', random_state=22)"
      ]
     },
     "execution_count": 42,
     "metadata": {},
     "output_type": "execute_result"
    }
   ],
   "source": [
    "rf.fit(X_train,y_train)"
   ]
  },
  {
   "cell_type": "code",
   "execution_count": 43,
   "id": "5ad12f90",
   "metadata": {
    "execution": {
     "iopub.execute_input": "2021-12-23T18:19:55.687976Z",
     "iopub.status.busy": "2021-12-23T18:19:55.687376Z",
     "iopub.status.idle": "2021-12-23T18:19:55.757166Z",
     "shell.execute_reply": "2021-12-23T18:19:55.757699Z",
     "shell.execute_reply.started": "2021-12-23T18:17:30.342818Z"
    },
    "id": "gQe3O-gNcgKv",
    "outputId": "851fe942-4e56-4fda-9720-4c4b45e5a329",
    "papermill": {
     "duration": 0.13647,
     "end_time": "2021-12-23T18:19:55.757895",
     "exception": false,
     "start_time": "2021-12-23T18:19:55.621425",
     "status": "completed"
    },
    "tags": []
   },
   "outputs": [
    {
     "name": "stdout",
     "output_type": "stream",
     "text": [
      "Y Test:  2186    0\n",
      "4217    0\n",
      "2059    0\n",
      "2611    0\n",
      "1812    1\n",
      "Name: label, dtype: int64\n",
      "Y Pred [0 0 0 0 0]\n"
     ]
    }
   ],
   "source": [
    "y_pred_rf=rf.predict(X_test)\n",
    "print('Y Test: ',y_test[:5,])\n",
    "print('Y Pred',y_pred_rf[:5,])"
   ]
  },
  {
   "cell_type": "code",
   "execution_count": 44,
   "id": "fdab8e79",
   "metadata": {
    "execution": {
     "iopub.execute_input": "2021-12-23T18:19:55.885600Z",
     "iopub.status.busy": "2021-12-23T18:19:55.884537Z",
     "iopub.status.idle": "2021-12-23T18:19:55.890806Z",
     "shell.execute_reply": "2021-12-23T18:19:55.891361Z",
     "shell.execute_reply.started": "2021-12-23T18:17:30.417992Z"
    },
    "id": "PzvvRTq9cqMZ",
    "outputId": "a471f5e4-21af-422b-da01-9693625c79ab",
    "papermill": {
     "duration": 0.072322,
     "end_time": "2021-12-23T18:19:55.891529",
     "exception": false,
     "start_time": "2021-12-23T18:19:55.819207",
     "status": "completed"
    },
    "tags": []
   },
   "outputs": [
    {
     "name": "stdout",
     "output_type": "stream",
     "text": [
      "Accuracy Score 0.9780786589297228\n"
     ]
    }
   ],
   "source": [
    "accuracy_rf=accuracy_score(y_test,y_pred_rf)\n",
    "print('Accuracy Score',accuracy_rf)"
   ]
  },
  {
   "cell_type": "code",
   "execution_count": 45,
   "id": "2eda9a7b",
   "metadata": {
    "execution": {
     "iopub.execute_input": "2021-12-23T18:19:56.018751Z",
     "iopub.status.busy": "2021-12-23T18:19:56.017781Z",
     "iopub.status.idle": "2021-12-23T18:19:56.244377Z",
     "shell.execute_reply": "2021-12-23T18:19:56.243884Z",
     "shell.execute_reply.started": "2021-12-23T18:17:30.426315Z"
    },
    "id": "Nx4RxPjZd1xl",
    "outputId": "acaddfc8-08d7-4720-efa3-db49987b86dc",
    "papermill": {
     "duration": 0.290893,
     "end_time": "2021-12-23T18:19:56.244513",
     "exception": false,
     "start_time": "2021-12-23T18:19:55.953620",
     "status": "completed"
    },
    "tags": []
   },
   "outputs": [
    {
     "name": "stdout",
     "output_type": "stream",
     "text": [
      "[[1356    1]\n",
      " [  33  161]]\n"
     ]
    },
    {
     "data": {
      "image/png": "[encoded data removed]",
      "text/plain": [
       "<Figure size 648x360 with 2 Axes>"
      ]
     },
     "metadata": {
      "needs_background": "light"
     },
     "output_type": "display_data"
    }
   ],
   "source": [
    "cm=confusion_matrix(y_test,y_pred_rf)\n",
    "print(cm)\n",
    "plt.figure(figsize=(9,5))\n",
    "sns.heatmap(cm,center=True,annot=True)\n",
    "plt.show()"
   ]
  },
  {
   "cell_type": "code",
   "execution_count": 46,
   "id": "1b7e57d1",
   "metadata": {
    "execution": {
     "iopub.execute_input": "2021-12-23T18:19:56.374777Z",
     "iopub.status.busy": "2021-12-23T18:19:56.374112Z",
     "iopub.status.idle": "2021-12-23T18:19:56.382157Z",
     "shell.execute_reply": "2021-12-23T18:19:56.382755Z",
     "shell.execute_reply.started": "2021-12-23T18:17:30.602669Z"
    },
    "id": "0G9TlEW7d8YK",
    "outputId": "5fd52bab-e455-4846-e3ed-12ecfdf7db94",
    "papermill": {
     "duration": 0.075709,
     "end_time": "2021-12-23T18:19:56.382945",
     "exception": false,
     "start_time": "2021-12-23T18:19:56.307236",
     "status": "completed"
    },
    "tags": []
   },
   "outputs": [
    {
     "name": "stdout",
     "output_type": "stream",
     "text": [
      "              precision    recall  f1-score   support\n",
      "\n",
      "           0       0.98      1.00      0.99      1357\n",
      "           1       0.99      0.83      0.90       194\n",
      "\n",
      "    accuracy                           0.98      1551\n",
      "   macro avg       0.99      0.91      0.95      1551\n",
      "weighted avg       0.98      0.98      0.98      1551\n",
      "\n"
     ]
    }
   ],
   "source": [
    "cr=classification_report(y_test,y_pred_rf)\n",
    "print(cr)"
   ]
  },
  {
   "cell_type": "code",
   "execution_count": 47,
   "id": "303691a0",
   "metadata": {
    "execution": {
     "iopub.execute_input": "2021-12-23T18:19:56.518599Z",
     "iopub.status.busy": "2021-12-23T18:19:56.517922Z",
     "iopub.status.idle": "2021-12-23T18:19:56.746225Z",
     "shell.execute_reply": "2021-12-23T18:19:56.745639Z",
     "shell.execute_reply.started": "2021-12-23T18:17:30.618568Z"
    },
    "id": "IKb8Ng2md8hI",
    "outputId": "aa51b600-2fd8-4311-dd95-ca87edd8403f",
    "papermill": {
     "duration": 0.298597,
     "end_time": "2021-12-23T18:19:56.746379",
     "exception": false,
     "start_time": "2021-12-23T18:19:56.447782",
     "status": "completed"
    },
    "tags": []
   },
   "outputs": [
    {
     "name": "stdout",
     "output_type": "stream",
     "text": [
      "rf_tpr Value  :  [0.00000000e+00 7.36919676e-04 1.00000000e+00]\n",
      "rf_fpr Value  :  [0.         0.82989691 1.        ]\n",
      "thresholds Value  :  [2 1 0]\n"
     ]
    },
    {
     "data": {
      "image/png": "[encoded data removed]",
      "text/plain": [
       "<Figure size 500x500 with 1 Axes>"
      ]
     },
     "metadata": {
      "needs_background": "light"
     },
     "output_type": "display_data"
    }
   ],
   "source": [
    "rf_tpr,rf_fpr,threshold=roc_curve(y_test,y_pred_rf)\n",
    "rf_auc=auc(rf_tpr,rf_fpr)\n",
    "print('rf_tpr Value  : ', rf_tpr)\n",
    "print('rf_fpr Value  : ', rf_fpr)\n",
    "print('thresholds Value  : ', threshold)\n",
    "\n",
    "#Draw ROC Curve && AUC [Area Under The Curve]\n",
    "\n",
    "plt.figure(figsize=(5, 5), dpi=100)\n",
    "plt.plot(rf_tpr, rf_fpr, linestyle='-', label='Random Force (auc = %0.3f)' % rf_auc)\n",
    "\n",
    "plt.xlabel('True Positive Rate -->')\n",
    "plt.ylabel('False Positive Rate -->')\n",
    "\n",
    "plt.legend()\n",
    "plt.show()"
   ]
  },
  {
   "cell_type": "code",
   "execution_count": 48,
   "id": "9728bfae",
   "metadata": {
    "execution": {
     "iopub.execute_input": "2021-12-23T18:19:56.891467Z",
     "iopub.status.busy": "2021-12-23T18:19:56.890782Z",
     "iopub.status.idle": "2021-12-23T18:19:56.949602Z",
     "shell.execute_reply": "2021-12-23T18:19:56.950104Z",
     "shell.execute_reply.started": "2021-12-23T18:17:30.776275Z"
    },
    "id": "ORxUkxyscxnS",
    "outputId": "ba135166-e1fc-45d1-b57e-fb29aeac00c8",
    "papermill": {
     "duration": 0.130589,
     "end_time": "2021-12-23T18:19:56.950322",
     "exception": false,
     "start_time": "2021-12-23T18:19:56.819733",
     "status": "completed"
    },
    "tags": []
   },
   "outputs": [
    {
     "name": "stdout",
     "output_type": "stream",
     "text": [
      "train Score Value :  [0.9747754  0.97546648 0.97581202 0.97547496 0.97443869]\n",
      "Test Score Value :  [0.96961326 0.95856354 0.96823204 0.96542185 0.97095436]\n",
      "Cross validation is 96.73852957435047\n"
     ]
    }
   ],
   "source": [
    "\n",
    "NB=BernoulliNB()\n",
    "CrossValidateValues_nb = cross_validate(NB,X_train,y_train,cv = 5,return_train_score = True) \n",
    "\n",
    "print('train Score Value : ', CrossValidateValues_nb['train_score'])\n",
    "print('Test Score Value : ', CrossValidateValues_nb['test_score'])\n",
    "\n",
    "#print('//////////////////////////////////////')\n",
    "\n",
    "# Showing Results\n",
    "\n",
    "# Showing Results\n",
    "score6_train = cross_val_score(estimator =NB, X = X_train, y = y_train, cv = 6)\n",
    "print(\"Cross validation is\",np.mean(score6_train)*100)"
   ]
  },
  {
   "cell_type": "code",
   "execution_count": 49,
   "id": "982fff42",
   "metadata": {
    "execution": {
     "iopub.execute_input": "2021-12-23T18:19:57.083828Z",
     "iopub.status.busy": "2021-12-23T18:19:57.083114Z",
     "iopub.status.idle": "2021-12-23T18:19:57.091372Z",
     "shell.execute_reply": "2021-12-23T18:19:57.090761Z",
     "shell.execute_reply.started": "2021-12-23T18:17:30.847467Z"
    },
    "id": "Y0GPggOYc168",
    "outputId": "c69b35ee-9a99-454d-d4e5-8fa75336e16d",
    "papermill": {
     "duration": 0.075635,
     "end_time": "2021-12-23T18:19:57.091507",
     "exception": false,
     "start_time": "2021-12-23T18:19:57.015872",
     "status": "completed"
    },
    "tags": []
   },
   "outputs": [
    {
     "data": {
      "text/plain": [
       "BernoulliNB()"
      ]
     },
     "execution_count": 49,
     "metadata": {},
     "output_type": "execute_result"
    }
   ],
   "source": [
    "NB.fit(X_train,y_train)"
   ]
  },
  {
   "cell_type": "code",
   "execution_count": 50,
   "id": "c6ed24b5",
   "metadata": {
    "execution": {
     "iopub.execute_input": "2021-12-23T18:19:57.225529Z",
     "iopub.status.busy": "2021-12-23T18:19:57.224870Z",
     "iopub.status.idle": "2021-12-23T18:19:57.235469Z",
     "shell.execute_reply": "2021-12-23T18:19:57.236126Z",
     "shell.execute_reply.started": "2021-12-23T18:17:30.858441Z"
    },
    "id": "92brtCfRc90b",
    "outputId": "2378e313-fcf2-484b-ae3f-d98b26a871c9",
    "papermill": {
     "duration": 0.079221,
     "end_time": "2021-12-23T18:19:57.236362",
     "exception": false,
     "start_time": "2021-12-23T18:19:57.157141",
     "status": "completed"
    },
    "tags": []
   },
   "outputs": [
    {
     "name": "stdout",
     "output_type": "stream",
     "text": [
      "Y Test \n",
      " 2186    0\n",
      "4217    0\n",
      "2059    0\n",
      "2611    0\n",
      "1812    1\n",
      "138     0\n",
      "429     0\n",
      "3359    0\n",
      "1486    1\n",
      "1827    0\n",
      "Name: label, dtype: int64\n",
      "Predicted Value for BernoulliNBModel is :\n",
      "  [0 0 0 0 0 0 0 0 1 0]\n",
      "Prediction Probabilities Value for BernoulliNBModel is : \n",
      " [[0 0]\n",
      " [0 0]\n",
      " [0 0]\n",
      " [0 0]\n",
      " [0 0]\n",
      " [0 0]\n",
      " [0 0]\n",
      " [0 0]\n",
      " [0 0]\n",
      " [0 0]]\n"
     ]
    }
   ],
   "source": [
    "y_pred_NB = NB.predict(X_test)\n",
    "y_pred_prob = NB.predict_proba(X_test)\n",
    "y_pred_prob=y_pred_prob.astype(int)\n",
    "print('Y Test \\n' ,y_test[:10,])\n",
    "print('Predicted Value for BernoulliNBModel is :\\n ' , y_pred_NB[:10,])\n",
    "print('Prediction Probabilities Value for BernoulliNBModel is : \\n' , y_pred_prob[:10,:])"
   ]
  },
  {
   "cell_type": "code",
   "execution_count": 51,
   "id": "5166d06a",
   "metadata": {
    "execution": {
     "iopub.execute_input": "2021-12-23T18:19:57.374652Z",
     "iopub.status.busy": "2021-12-23T18:19:57.373582Z",
     "iopub.status.idle": "2021-12-23T18:19:57.377755Z",
     "shell.execute_reply": "2021-12-23T18:19:57.378213Z",
     "shell.execute_reply.started": "2021-12-23T18:17:30.872995Z"
    },
    "id": "5W1K5XWQdBn1",
    "outputId": "1d8677b9-fae1-4242-a0d7-2e19e701b44a",
    "papermill": {
     "duration": 0.075512,
     "end_time": "2021-12-23T18:19:57.378381",
     "exception": false,
     "start_time": "2021-12-23T18:19:57.302869",
     "status": "completed"
    },
    "tags": []
   },
   "outputs": [
    {
     "name": "stdout",
     "output_type": "stream",
     "text": [
      "0.9793681495809156\n"
     ]
    }
   ],
   "source": [
    "accuracy_nb=accuracy_score(y_test,y_pred_NB)\n",
    "print(accuracy_nb)"
   ]
  },
  {
   "cell_type": "code",
   "execution_count": 52,
   "id": "09808068",
   "metadata": {
    "execution": {
     "iopub.execute_input": "2021-12-23T18:19:57.517300Z",
     "iopub.status.busy": "2021-12-23T18:19:57.516595Z",
     "iopub.status.idle": "2021-12-23T18:19:57.739780Z",
     "shell.execute_reply": "2021-12-23T18:19:57.739114Z",
     "shell.execute_reply.started": "2021-12-23T18:17:30.881508Z"
    },
    "id": "ibokq8u6dFqD",
    "outputId": "bcddd55c-3792-4a26-8381-4c675efc50d8",
    "papermill": {
     "duration": 0.294309,
     "end_time": "2021-12-23T18:19:57.739936",
     "exception": false,
     "start_time": "2021-12-23T18:19:57.445627",
     "status": "completed"
    },
    "tags": []
   },
   "outputs": [
    {
     "name": "stdout",
     "output_type": "stream",
     "text": [
      "[[1356    1]\n",
      " [  31  163]]\n"
     ]
    },
    {
     "data": {
      "image/png": "[encoded data removed]",
      "text/plain": [
       "<Figure size 648x360 with 2 Axes>"
      ]
     },
     "metadata": {
      "needs_background": "light"
     },
     "output_type": "display_data"
    }
   ],
   "source": [
    "cm = confusion_matrix(y_test,y_pred_NB)\n",
    "print(cm)\n",
    "plt.figure(figsize=(9,5))\n",
    "sns.heatmap(cm,center=True,annot=True)\n",
    "plt.show()"
   ]
  },
  {
   "cell_type": "code",
   "execution_count": 53,
   "id": "e53c3626",
   "metadata": {
    "execution": {
     "iopub.execute_input": "2021-12-23T18:19:57.880770Z",
     "iopub.status.busy": "2021-12-23T18:19:57.880086Z",
     "iopub.status.idle": "2021-12-23T18:19:57.889309Z",
     "shell.execute_reply": "2021-12-23T18:19:57.888665Z",
     "shell.execute_reply.started": "2021-12-23T18:17:31.051140Z"
    },
    "id": "_f-DvZKhdLps",
    "outputId": "63a17495-4e88-404a-d64d-5c539981e7af",
    "papermill": {
     "duration": 0.081547,
     "end_time": "2021-12-23T18:19:57.889447",
     "exception": false,
     "start_time": "2021-12-23T18:19:57.807900",
     "status": "completed"
    },
    "tags": []
   },
   "outputs": [
    {
     "name": "stdout",
     "output_type": "stream",
     "text": [
      "              precision    recall  f1-score   support\n",
      "\n",
      "           0       0.98      1.00      0.99      1357\n",
      "           1       0.99      0.84      0.91       194\n",
      "\n",
      "    accuracy                           0.98      1551\n",
      "   macro avg       0.99      0.92      0.95      1551\n",
      "weighted avg       0.98      0.98      0.98      1551\n",
      "\n"
     ]
    }
   ],
   "source": [
    "cr=classification_report(y_test,y_pred_NB)\n",
    "print(cr)"
   ]
  },
  {
   "cell_type": "code",
   "execution_count": 54,
   "id": "0cf84d5a",
   "metadata": {
    "execution": {
     "iopub.execute_input": "2021-12-23T18:19:58.084484Z",
     "iopub.status.busy": "2021-12-23T18:19:58.028283Z",
     "iopub.status.idle": "2021-12-23T18:19:58.242086Z",
     "shell.execute_reply": "2021-12-23T18:19:58.241531Z",
     "shell.execute_reply.started": "2021-12-23T18:17:31.065204Z"
    },
    "id": "eyfzbo1ldO7C",
    "outputId": "8f90a845-e468-41a5-9aff-1eb586cd33c6",
    "papermill": {
     "duration": 0.285167,
     "end_time": "2021-12-23T18:19:58.242262",
     "exception": false,
     "start_time": "2021-12-23T18:19:57.957095",
     "status": "completed"
    },
    "tags": []
   },
   "outputs": [
    {
     "name": "stdout",
     "output_type": "stream",
     "text": [
      "nb_tpr Value  :  [0.00000000e+00 7.36919676e-04 1.00000000e+00]\n",
      "nb_fpr Value  :  [0.         0.84020619 1.        ]\n",
      "thresholds Value  :  [2 1 0]\n"
     ]
    },
    {
     "data": {
      "image/png": "[encoded data removed]",
      "text/plain": [
       "<Figure size 500x500 with 1 Axes>"
      ]
     },
     "metadata": {
      "needs_background": "light"
     },
     "output_type": "display_data"
    }
   ],
   "source": [
    "nb_tpr,nb_fpr,threshold=roc_curve(y_test,y_pred_NB)\n",
    "nb_auc=auc(nb_tpr,nb_fpr)\n",
    "print('nb_tpr Value  : ', nb_tpr)\n",
    "print('nb_fpr Value  : ', nb_fpr)\n",
    "print('thresholds Value  : ', threshold)\n",
    "\n",
    "#Draw ROC Curve && AUC [Area Under The Curve]\n",
    "\n",
    "plt.figure(figsize=(5, 5), dpi=100)\n",
    "plt.plot(nb_tpr, nb_fpr, linestyle='-', label='Naive Basye (auc = %0.3f)' % nb_auc)\n",
    "\n",
    "plt.xlabel('True Positive Rate -->')\n",
    "plt.ylabel('False Positive Rate -->')\n",
    "\n",
    "plt.legend()\n",
    "plt.show()"
   ]
  },
  {
   "cell_type": "code",
   "execution_count": 55,
   "id": "5048cba6",
   "metadata": {
    "execution": {
     "iopub.execute_input": "2021-12-23T18:19:58.395452Z",
     "iopub.status.busy": "2021-12-23T18:19:58.394538Z",
     "iopub.status.idle": "2021-12-23T18:19:58.397903Z",
     "shell.execute_reply": "2021-12-23T18:19:58.398387Z",
     "shell.execute_reply.started": "2021-12-23T18:17:31.213643Z"
    },
    "id": "kuGQV5m5eC04",
    "outputId": "7729fa46-e1ef-4525-b1da-1ca8fe9c5e89",
    "papermill": {
     "duration": 0.085961,
     "end_time": "2021-12-23T18:19:58.398552",
     "exception": false,
     "start_time": "2021-12-23T18:19:58.312591",
     "status": "completed"
    },
    "tags": []
   },
   "outputs": [
    {
     "data": {
      "text/html": [
       "<div>\n",
       "<style scoped>\n",
       "    .dataframe tbody tr th:only-of-type {\n",
       "        vertical-align: middle;\n",
       "    }\n",
       "\n",
       "    .dataframe tbody tr th {\n",
       "        vertical-align: top;\n",
       "    }\n",
       "\n",
       "    .dataframe thead th {\n",
       "        text-align: right;\n",
       "    }\n",
       "</style>\n",
       "<table border=\"1\" class=\"dataframe\">\n",
       "  <thead>\n",
       "    <tr style=\"text-align: right;\">\n",
       "      <th></th>\n",
       "      <th>Model</th>\n",
       "      <th>Score</th>\n",
       "    </tr>\n",
       "  </thead>\n",
       "  <tbody>\n",
       "    <tr>\n",
       "      <th>3</th>\n",
       "      <td>Naive Bayes</td>\n",
       "      <td>0.979368</td>\n",
       "    </tr>\n",
       "    <tr>\n",
       "      <th>2</th>\n",
       "      <td>Random Forest</td>\n",
       "      <td>0.978079</td>\n",
       "    </tr>\n",
       "    <tr>\n",
       "      <th>1</th>\n",
       "      <td>Support Vector Machines</td>\n",
       "      <td>0.976144</td>\n",
       "    </tr>\n",
       "    <tr>\n",
       "      <th>0</th>\n",
       "      <td>Logistic Regression</td>\n",
       "      <td>0.968407</td>\n",
       "    </tr>\n",
       "  </tbody>\n",
       "</table>\n",
       "</div>"
      ],
      "text/plain": [
       "                     Model     Score\n",
       "3              Naive Bayes  0.979368\n",
       "2            Random Forest  0.978079\n",
       "1  Support Vector Machines  0.976144\n",
       "0      Logistic Regression  0.968407"
      ]
     },
     "execution_count": 55,
     "metadata": {},
     "output_type": "execute_result"
    }
   ],
   "source": [
    "models = pd.DataFrame({\n",
    "    'Model': ['Logistic Regression','Support Vector Machines','Random Forest', 'Naive Bayes'],\n",
    "    'Score': [accuracy_lg, accuracy_s, accuracy_rf, accuracy_nb]})\n",
    "models.sort_values(by='Score', ascending=False)"
   ]
  }
 ],
 "metadata": {
  "kernelspec": {
   "display_name": "Python 3",
   "language": "python",
   "name": "python3"
  },
  "language_info": {
   "codemirror_mode": {
    "name": "ipython",
    "version": 3
   },
   "file_extension": ".py",
   "mimetype": "text/x-python",
   "name": "python",
   "nbconvert_exporter": "python",
   "pygments_lexer": "ipython3",
   "version": "3.7.12"
  },
  "papermill": {
   "default_parameters": {},
   "duration": 99.562434,
   "end_time": "2021-12-23T18:19:59.282475",
   "environment_variables": {},
   "exception": null,
   "input_path": "__notebook__.ipynb",
   "output_path": "__notebook__.ipynb",
   "parameters": {},
   "start_time": "2021-12-23T18:18:19.720041",
   "version": "2.3.3"
  }
 },
 "nbformat": 4,
 "nbformat_minor": 5
}
